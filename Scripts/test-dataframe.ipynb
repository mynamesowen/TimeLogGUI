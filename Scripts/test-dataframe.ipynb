{
 "cells": [
  {
   "cell_type": "code",
   "execution_count": 16,
   "metadata": {},
   "outputs": [
    {
     "name": "stdout",
     "output_type": "stream",
     "text": [
      "<class 'pandas.core.frame.DataFrame'>\n",
      "RangeIndex: 5 entries, 0 to 4\n",
      "Data columns (total 5 columns):\n",
      " #   Column         Non-Null Count  Dtype         \n",
      "---  ------         --------------  -----         \n",
      " 0   date           5 non-null      datetime64[ns]\n",
      " 1   time_spent     5 non-null      int64         \n",
      " 2   affected_user  5 non-null      object        \n",
      " 3   description    5 non-null      object        \n",
      " 4   location       5 non-null      object        \n",
      "dtypes: datetime64[ns](1), int64(1), object(3)\n",
      "memory usage: 328.0+ bytes\n"
     ]
    }
   ],
   "source": [
    "import pandas as pd\n",
    "CSV_FILE_PATH = \"C:/Users/cpawl/Desktop/Projects/WorkTimeLog/TimeLogGUI/TimeLogGUI/timelog.csv\"\n",
    "timelog = pd.read_csv(CSV_FILE_PATH)\n",
    "\n",
    "timelog['date'] = timelog['date'].astype('datetime64')\n",
    "\n",
    "timelog.info()"
   ]
  },
  {
   "cell_type": "code",
   "execution_count": 17,
   "metadata": {},
   "outputs": [
    {
     "data": {
      "text/html": [
       "<div>\n",
       "<style scoped>\n",
       "    .dataframe tbody tr th:only-of-type {\n",
       "        vertical-align: middle;\n",
       "    }\n",
       "\n",
       "    .dataframe tbody tr th {\n",
       "        vertical-align: top;\n",
       "    }\n",
       "\n",
       "    .dataframe thead th {\n",
       "        text-align: right;\n",
       "    }\n",
       "</style>\n",
       "<table border=\"1\" class=\"dataframe\">\n",
       "  <thead>\n",
       "    <tr style=\"text-align: right;\">\n",
       "      <th></th>\n",
       "      <th>date</th>\n",
       "      <th>time_spent</th>\n",
       "      <th>affected_user</th>\n",
       "      <th>description</th>\n",
       "      <th>location</th>\n",
       "    </tr>\n",
       "  </thead>\n",
       "  <tbody>\n",
       "    <tr>\n",
       "      <th>0</th>\n",
       "      <td>2022-07-23</td>\n",
       "      <td>15</td>\n",
       "      <td>Owen</td>\n",
       "      <td>Made a quick typo</td>\n",
       "      <td>Volpe</td>\n",
       "    </tr>\n",
       "    <tr>\n",
       "      <th>2</th>\n",
       "      <td>2022-07-24</td>\n",
       "      <td>5</td>\n",
       "      <td>6</td>\n",
       "      <td>7</td>\n",
       "      <td>8</td>\n",
       "    </tr>\n",
       "    <tr>\n",
       "      <th>4</th>\n",
       "      <td>2022-07-24</td>\n",
       "      <td>20</td>\n",
       "      <td>Josh</td>\n",
       "      <td>help josh with his issue</td>\n",
       "      <td>Home</td>\n",
       "    </tr>\n",
       "  </tbody>\n",
       "</table>\n",
       "</div>"
      ],
      "text/plain": [
       "        date  time_spent affected_user               description location\n",
       "0 2022-07-23          15          Owen         Made a quick typo    Volpe\n",
       "2 2022-07-24           5             6                         7        8\n",
       "4 2022-07-24          20          Josh  help josh with his issue     Home"
      ]
     },
     "execution_count": 17,
     "metadata": {},
     "output_type": "execute_result"
    }
   ],
   "source": [
    "temp = timelog[timelog.date.between('7/15/22', '7/24/22')]\n",
    "temp"
   ]
  }
 ],
 "metadata": {
  "kernelspec": {
   "display_name": "Python 3.9.6 64-bit",
   "language": "python",
   "name": "python3"
  },
  "language_info": {
   "codemirror_mode": {
    "name": "ipython",
    "version": 3
   },
   "file_extension": ".py",
   "mimetype": "text/x-python",
   "name": "python",
   "nbconvert_exporter": "python",
   "pygments_lexer": "ipython3",
   "version": "3.9.6"
  },
  "orig_nbformat": 4,
  "vscode": {
   "interpreter": {
    "hash": "eb73c826c1015bd8fc2c6474448021b8f85d0015b1cf3123239f59bd65df3141"
   }
  }
 },
 "nbformat": 4,
 "nbformat_minor": 2
}
